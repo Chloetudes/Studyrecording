{
 "cells": [
  {
   "cell_type": "markdown",
   "id": "359db50f",
   "metadata": {},
   "source": [
    "# Data Science Tools and Ecosystem\n"
   ]
  },
  {
   "cell_type": "markdown",
   "id": "772dae97",
   "metadata": {},
   "source": [
    "In this notebook, Data Science Tools and Ecosystem are summarized.  \n"
   ]
  },
  {
   "cell_type": "markdown",
   "id": "7ccb977e",
   "metadata": {},
   "source": [
    "**Objectives:**\n",
    "List popular languages for Data Science\n",
    "- Python\n",
    "- R\n",
    "- SQL\n",
    "- Scala\n",
    "- Julia"
   ]
  },
  {
   "cell_type": "markdown",
   "id": "9dd4d334",
   "metadata": {},
   "source": [
    "Some of the popular languages that Data Scientists use are:  "
   ]
  },
  {
   "cell_type": "markdown",
   "id": "6ee076f7",
   "metadata": {},
   "source": [
    "1. Python\n",
    "2. R\n",
    "3. SQL  "
   ]
  },
  {
   "cell_type": "markdown",
   "id": "52d13985",
   "metadata": {},
   "source": [
    "Some of the commonly used libraries used by Data Scientists include:  "
   ]
  },
  {
   "cell_type": "markdown",
   "id": "19ec6c3e",
   "metadata": {},
   "source": [
    "1. pandas \n",
    "2. numpy\n",
    "3. matplotlib  "
   ]
  },
  {
   "cell_type": "markdown",
   "id": "2334ab1e",
   "metadata": {},
   "source": [
    "|Data Science Tools|\n",
    "|----|\n",
    "|    Pixie Dust    |\n",
    "| Apache Superset  |\n",
    "|       MySQL      |  "
   ]
  },
  {
   "cell_type": "markdown",
   "id": "8a4c804b",
   "metadata": {},
   "source": [
    "### Below are a few examples of evaluating arithmetic expressions in Python  "
   ]
  },
  {
   "cell_type": "code",
   "execution_count": 3,
   "id": "24d228ee",
   "metadata": {},
   "outputs": [
    {
     "data": {
      "text/plain": [
       "17"
      ]
     },
     "execution_count": 3,
     "metadata": {},
     "output_type": "execute_result"
    }
   ],
   "source": [
    "# This a simple arithmetic expression to mutiply then add integers\n",
    "(3*4)+5"
   ]
  },
  {
   "cell_type": "markdown",
   "id": "b72af897",
   "metadata": {},
   "source": [
    "## Author"
   ]
  },
  {
   "cell_type": "markdown",
   "id": "02cad9e8",
   "metadata": {},
   "source": [
    "Yang Hua  \n"
   ]
  },
  {
   "cell_type": "code",
   "execution_count": null,
   "id": "772f4974",
   "metadata": {},
   "outputs": [],
   "source": []
  }
 ],
 "metadata": {
  "kernelspec": {
   "display_name": "Python 3 (ipykernel)",
   "language": "python",
   "name": "python3"
  },
  "language_info": {
   "codemirror_mode": {
    "name": "ipython",
    "version": 3
   },
   "file_extension": ".py",
   "mimetype": "text/x-python",
   "name": "python",
   "nbconvert_exporter": "python",
   "pygments_lexer": "ipython3",
   "version": "3.10.9"
  }
 },
 "nbformat": 4,
 "nbformat_minor": 5
}
